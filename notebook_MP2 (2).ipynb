{
  "metadata": {
    "kernelspec": {
      "name": "python",
      "display_name": "Python (Pyodide)",
      "language": "python"
    },
    "language_info": {
      "codemirror_mode": {
        "name": "python",
        "version": 3
      },
      "file_extension": ".py",
      "mimetype": "text/x-python",
      "name": "python",
      "nbconvert_exporter": "python",
      "pygments_lexer": "ipython3",
      "version": "3.8"
    }
  },
  "nbformat_minor": 5,
  "nbformat": 4,
  "cells": [
    {
      "cell_type": "markdown",
      "source": "<h1>Mini-project 2 | Rush Hour Game </h1>",
      "metadata": {},
      "id": "3074e3e8-fd6b-4994-aff7-f9b86d798577"
    },
    {
      "cell_type": "markdown",
      "source": "<h3>Gameboard Class (Node) </h3>",
      "metadata": {},
      "id": "21c49027-f8b5-4bb6-a696-1a7a068e8ee4"
    },
    {
      "cell_type": "code",
      "source": "# from car import Car\nfrom copy import deepcopy\n\n\nclass Gameboard(object):\n    def __init__(self, carFuel, carOrientation, state):\n        self.carFuel = carFuel\n        self.carOrientation = carOrientation\n        self.children = []\n        self.state = state\n\n    #move should only move 1\n    #we should have other methods that call move, that create graph\n    #TODO: add board each for empty space next to car\n    #TODO: add base cases (win condition, out of fuel, no solution )\n    def move(self):\n        for c in self.carFuel:\n            if self.carOrientation.get(c.keys()) == \"h\":\n                for i in range(6):\n                    for j in range(6):\n                        if self.state[i][j] == c.keys():\n                            startCoord = [i,j]\n                            tempj = j+1\n                            while(self.state[i][tempj] == c.keys()):\n                                tempj+=1\n                            endCoord = [i,tempj-1]\n                row = startCoord[0]\n                column = startCoord[1]\n                #check if at exit\n                carPosition = self.carAtExit(startCoord,endCoord)\n                if carPosition:\n                    if self.state[i][j]==\"A\":\n                    #remove car and end game\n                    else:\n                        #remove car\n                #check left\n                if c.values() >0:\n                    if column -1 in range(6):\n                        if self.state[row][column-1] == \".\":\n                            newState = deepcopy(self.state)\n                            newState[row][column-1] = c.keys()\n                            newState[endCoord[0]][endCoord[1]] = \".\"\n                            self.carFuel[c.keys()] = c.values() -1\n                            newBoard = Gameboard(self.carFuel,self.carOrientation, newState)\n                            self.add_child(newBoard)\n                            self.children = newBoard\n                        else:\n                            continue\n                #check right\n                row = endCoord[0]\n                column = endCoord[1]\n                if c.values() >0:\n                    if column +1 in range(6):\n                        if self.state[row][column+1] == \".\":\n                            newState = deepcopy(self.state)\n                            newState[row][column+1] = c.keys()\n                            newState[startCoord[0]][startCoord[1]] = \".\"\n                            self.carFuel[c.keys()] = c.values() -1\n                            newBoard = Gameboard(self.carFuel,self.carOrientation, newState)\n                            self.add_child(newBoard)\n                            # self.children = newBoard\n                        else:\n                            continue\n            elif self.carOrientation.get(c.keys()) == \"v\":\n                for i in range(6):\n                    for j in range(6):\n                        if self.state[i][j] == c.keys():\n                            startCoord = [i,j]\n                            tempi = i+1\n                            while(self.state[tempi][j] == c.keys()):\n                                tempi+=1\n                            endCoord = [tempi,j]\n                row = startCoord[0]\n                column = startCoord[1]\n                #check up\n                if c.values() >0:\n                    if row-1 in range(6):\n                        if self.state[row-1][column] == \".\":\n                            newState = deepcopy(self.state)\n                            newState[row-1][column] = c.keys()\n                            newState[endCoord[0]][endCoord[1]] = \".\"\n                            self.carFuel[c.keys()] = c.values() -1\n                            newBoard = Gameboard(self.carFuel,self.carOrientation, newState)\n                            self.add_child(newBoard)\n                            # self.children = newBoard\n                        else:\n                            continue\n                #check down\n                row = endCoord[0]\n                column = endCoord[1]\n                if c.values() >0:\n                    if row+1 in range(6):\n                        if self.state[row+1][column] == \".\":\n                            newState = deepcopy(self.state)\n                            newState[row+1][column] = c.keys()\n                            newState[endCoord[0]][endCoord[1]] = \".\"\n                            self.carFuel[c.keys()] = c.values() -1\n                            newBoard = Gameboard(self.carFuel,self.carOrientation, newState)\n                            self.add_child(newBoard)\n                            # self.children = newBoard\n                        else:\n                            continue\n                            \n    def carAtExit(self,start,end):\n        if(start[0]==3 and start[1]==5):\n            return True\n        elif(end[0]==1 and end[1]==5):\n            return True\n        else:\n            return False\n        \n    def add_child(self, newBoard, cost=1):\n        child = Child(self, newBoard, cost)\n        self.children.append(child)\n        ",
      "metadata": {
        "trusted": true
      },
      "execution_count": 4,
      "outputs": [
        {
          "ename": "<class 'IndentationError'>",
          "evalue": "expected an indented block after 'if' statement on line 32 (<ipython-input-4-cc6837f77689>, line 34)",
          "traceback": [
            "\u001b[0;36m  Cell \u001b[0;32mIn [4], line 34\u001b[0;36m\u001b[0m\n\u001b[0;31m    else:\u001b[0m\n\u001b[0m    ^\u001b[0m\n\u001b[0;31mIndentationError\u001b[0m\u001b[0;31m:\u001b[0m expected an indented block after 'if' statement on line 32\n"
          ],
          "output_type": "error"
        }
      ],
      "id": "f5279e1f-f185-4113-a4b5-3bef56036ba6"
    },
    {
      "cell_type": "markdown",
      "source": "<h3> Child Class (Edges) <h3>",
      "metadata": {},
      "id": "8c9fa39b-3cb2-4f78-8eeb-03203b0d1d76"
    },
    {
      "cell_type": "code",
      "source": "class Child(object): \n    \n    def__init__(self, parent: Gameboard, board: Gameboard, cost: int=1):\n        \"\"\"\n        Initialize a new child.\n        \n        Args:\n            parent: parent of the child \n            board: the current board of the child \n            cost: the cost of the edge (default 1)\n        \"\"\"\n\n        self.parent = parent\n        self.board = board \n        self.cost = cost\n        \n",
      "metadata": {},
      "execution_count": null,
      "outputs": [],
      "id": "0fad4bb6-5246-4b34-b439-c7c154a9c0af"
    },
    {
      "cell_type": "markdown",
      "source": "<h3> UCS <h3>",
      "metadata": {},
      "id": "80affc51-711e-4c8b-a02b-55ea563c84f9"
    },
    {
      "cell_type": "code",
      "source": "from queue import PriorityQueue\n\n\ndef ucs(root, goal):\n    \"\"\"\n    Return the uniform cost search path from root to gaol.\n    \n    Args:\n        root: the starting node for the search\n        goal: the goal node for the search\n        \n    Returns: a list with the path from root to goal\n    \n    Raises: ValueError if goal isn't in the graph\n    \"\"\"\n    # create a priority queue of paths\n    queue = PriorityQueue()\n    queue.put((0, [root]))\n    # iterate over the items in the queue\n    while not queue.empty():\n        # get the highest priority item\n        pair = queue.get()\n        current = pair[1][-1]\n        # if it's the goal, return\n        if current.label == goal:\n            return pair[1]\n        # add all the edges to the priority queue\n        for edge in current.children:\n            # create a new path with the node from the edge\n            new_path = list(pair[1])\n            new_path.append(edge.destination)\n            # append the new path to the queue with the edges priority\n            queue.put((pair[0] + edge.cost, new_path))",
      "metadata": {
        "trusted": true
      },
      "execution_count": 5,
      "outputs": [],
      "id": "dc8210d6-086e-4173-bd8b-ceb1462821ca"
    },
    {
      "cell_type": "markdown",
      "source": "<h3> Car Class <h3>",
      "metadata": {},
      "id": "d493c1f0-64a3-4a2e-9cc4-1d4eb4478af8"
    },
    {
      "cell_type": "code",
      "source": "class Car(object): \n\n    # carsList = []\n    def __init__(self, name, coordinates, fuel,orientation):\n        self.name = name\n        self.coordinates = [coordinates]\n        self.fuel = fuel\n        self.orientation = orientation\n        # Car.carsList.append(self)\n\n    def __str__(self): \n        return f\"{self.name}{self.coordinates}\"\n\n    def update_coord(self,x, y):\n        self.coordinates.append((x,y))\n\n    def adjust_coord(self,direction):\n        if direction==\"left\":\n            for coord in self.coordinates:\n                coord[1] = coord[1]-1\n        if direction==\"right\":\n            for coord in self.coordinates:\n                coord[1] = coord[1]+1\n        if direction==\"up\":\n            for coord in self.coordinates:\n                coord[0] = coord[0]-1\n        if direction==\"down\":\n            for coord in self.coordinates:\n                coord[0] = coord[0]+1",
      "metadata": {
        "trusted": true
      },
      "execution_count": 6,
      "outputs": [],
      "id": "7d2b4878-0e4b-4e4d-bca6-a24aaa041515"
    },
    {
      "cell_type": "markdown",
      "source": "<h3>Helper Functions <h3> ",
      "metadata": {},
      "id": "c9508d9d-a78d-42d6-b7bb-6406efed741d"
    },
    {
      "cell_type": "code",
      "source": "def parsePuzzle(input):\n    \"\"\" check that the string is exactly of 36 characters \n        and there is an ambulance \"\"\"\n    if (len(input) >36 or len(input) < 36) and (\"A\" not in input):\n        print('Puzzle is not valid')\n    else: \n# the string is valid so take the puzzle and place it on a a 2D array\n        array = []\n        counter = 0\n        while counter <36:\n            temp_columns =[]\n        for i in range(6): \n            temp_columns.append(input[counter])\n            counter=counter+1\n        array.append(temp_columns)\n    return array \n\n# given an array, create a dictionary of cars with the initial puzzle \ndef createCars(array):\n    cars_dict = {}\n    for i in range(6):\n        for j in range(6):\n            if array[i][j] != \".\":\n                if len(cars_dict) ==0:\n                    if array[i][j+1] == array[i][j]:\n                        temp_obj=Car(array[i][j],(i,j),100, \"h\")\n                        cars_dict.update({array[i][j]: temp_obj})\n                    else:\n                        temp_obj=Car(array[i][j],(i,j),100, \"v\")\n                        cars_dict.update({array[i][j]: temp_obj})\n                else:\n                    if array[i][j] in cars_dict:\n                          x=cars_dict.get(array[i][j])\n                          x.update_coord(i,j)\n                    else:\n                        if j+1 in range(6):\n                            if array[i][j+1] == array[i][j]:\n                                temp_obj=Car(array[i][j],(i,j),100, \"h\")\n                                cars_dict.update({array[i][j]: temp_obj})\n                            else:\n                                temp_obj=Car(array[i][j],(i,j),100, \"v\")\n                                cars_dict.update({array[i][j]: temp_obj})\n                        else:\n                            continue\n    return cars_dict\n\ndef createFuelDict(cars_dict):\n    carFuel = {}\n    for x in cars_dict.values():\n        carFuel[x.name] = x.fuel\n    return carFuel\n\ndef createOrientationDict(cars_dict):\n    carOrientation = {}\n    for x in cars_dict.values():\n        carOrientation[x.name] = x.orientation\n    return carOrientation\n\n    \n    \n        \n        ",
      "metadata": {
        "trusted": true
      },
      "execution_count": 10,
      "outputs": [],
      "id": "79a21efa-2890-439a-aac3-6ec70f48dc16"
    },
    {
      "cell_type": "code",
      "source": "",
      "metadata": {},
      "execution_count": null,
      "outputs": [],
      "id": "9e77994c-8f79-4f20-97ec-a92b149933b5"
    }
  ]
}
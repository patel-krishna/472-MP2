{
  "metadata": {
    "kernelspec": {
      "name": "python",
      "display_name": "Python (Pyodide)",
      "language": "python"
    },
    "language_info": {
      "codemirror_mode": {
        "name": "python",
        "version": 3
      },
      "file_extension": ".py",
      "mimetype": "text/x-python",
      "name": "python",
      "nbconvert_exporter": "python",
      "pygments_lexer": "ipython3",
      "version": "3.8"
    }
  },
  "nbformat_minor": 5,
  "nbformat": 4,
  "cells": [
    {
      "cell_type": "markdown",
      "source": "<h1>Mini-project 2 | Rush Hour Game </h1>",
      "metadata": {},
      "id": "3074e3e8-fd6b-4994-aff7-f9b86d798577"
    },
    {
      "cell_type": "markdown",
      "source": "<h3>Gameboard Class (Node) </h3>",
      "metadata": {},
      "id": "21c49027-f8b5-4bb6-a696-1a7a068e8ee4"
    },
    {
      "cell_type": "code",
      "source": "from car import Car\nfrom copy import deepcopy\n\n\nclass Gameboard(object):\n    def __init__(self, carFuel, carOrientation, state):\n        self.carFuel = carFuel\n        self.carOrientation = carOrientation\n        self.children = []\n        self.state = state\n\n    #move should only move 1\n    #we should have other methods that call move, that create graph\n    #TODO: add board each for empty space next to car\n    #TODO: add base cases (win condition, out of fuel, no solution )\n    def move(self):\n        for c in self.carFuel:\n            if self.carOrientation.get(c.keys()) == \"h\":\n                for i in range(6):\n                    for j in range(6):\n                        if self.state[i][j] == c.keys():\n                            startCoord = [i,j]\n                            tempj = j+1\n                            while(self.state[i][tempj] == c.keys()):\n                                tempj+=1\n                            endCoord = [i,tempj-1]\n                row = startCoord[0]\n                column = startCoord[1]\n                #check if at exit\n                carPosition = self.carAtExit(startCoord,endCoord)\n                if carPosition:\n                    if self.state[i][j]==\"A\":\n                    #remove car and end game\n                    else:\n                        #remove car\n                #check left\n                if c.values() >0:\n                    if column -1 in range(6):\n                        if self.state[row][column-1] == \".\":\n                            newState = deepcopy(self.state)\n                            newState[row][column-1] = c.keys()\n                            newState[endCoord[0]][endCoord[1]] = \".\"\n                            self.carFuel[c.keys()] = c.values() -1\n                            newBoard = Gameboard(self.carFuel,self.carOrientation, newState)\n                            self.children = newBoard\n                        else:\n                            continue\n                #check right\n                row = endCoord[0]\n                column = endCoord[1]\n                if c.values() >0:\n                    if column +1 in range(6):\n                        if self.state[row][column+1] == \".\":\n                            newState = deepcopy(self.state)\n                            newState[row][column+1] = c.keys()\n                            newState[startCoord[0]][startCoord[1]] = \".\"\n                            self.carFuel[c.keys()] = c.values() -1\n                            newBoard = Gameboard(self.carFuel,self.carOrientation, newState)\n                            self.add_child(newBoard)\n                            # self.children = newBoard\n                        else:\n                            continue\n            elif self.carOrientation.get(c.keys()) == \"v\":\n                for i in range(6):\n                    for j in range(6):\n                        if self.state[i][j] == c.keys():\n                            startCoord = [i,j]\n                            tempi = i+1\n                            while(self.state[tempi][j] == c.keys()):\n                                tempi+=1\n                            endCoord = [tempi,j]\n                row = startCoord[0]\n                column = startCoord[1]\n                #check up\n                if c.values() >0:\n                    if row-1 in range(6):\n                        if self.state[row-1][column] == \".\":\n                            newState = deepcopy(self.state)\n                            newState[row-1][column] = c.keys()\n                            newState[endCoord[0]][endCoord[1]] = \".\"\n                            self.carFuel[c.keys()] = c.values() -1\n                            newBoard = Gameboard(self.carFuel,self.carOrientation, newState)\n                            self.add_child(newBoard)\n                            # self.children = newBoard\n                        else:\n                            continue\n                #check down\n                row = endCoord[0]\n                column = endCoord[1]\n                if c.values() >0:\n                    if row+1 in range(6):\n                        if self.state[row+1][column] == \".\":\n                            newState = deepcopy(self.state)\n                            newState[row+1][column] = c.keys()\n                            newState[endCoord[0]][endCoord[1]] = \".\"\n                            self.carFuel[c.keys()] = c.values() -1\n                            newBoard = Gameboard(self.carFuel,self.carOrientation, newState)\n                            self.add_child(newBoard)\n                            # self.children = newBoard\n                        else:\n                            continue\n                            \n    def carAtExit(self,start,end):\n        if(start[0]==3 and start[1]==5):\n            return True\n        elif(end[0]==1 and end[1]==5):\n            return True\n        else:\n            return False\n        \n    def add_child(self, newBoard, cost=1):\n        child = Child(self, newBoard, cost)\n        self.children.append(child)\n        ",
      "metadata": {
        "trusted": true
      },
      "execution_count": 4,
      "outputs": [
        {
          "ename": "<class 'IndentationError'>",
          "evalue": "expected an indented block after 'if' statement on line 32 (<ipython-input-4-cc6837f77689>, line 34)",
          "traceback": [
            "\u001b[0;36m  Cell \u001b[0;32mIn [4], line 34\u001b[0;36m\u001b[0m\n\u001b[0;31m    else:\u001b[0m\n\u001b[0m    ^\u001b[0m\n\u001b[0;31mIndentationError\u001b[0m\u001b[0;31m:\u001b[0m expected an indented block after 'if' statement on line 32\n"
          ],
          "output_type": "error"
        }
      ],
      "id": "f5279e1f-f185-4113-a4b5-3bef56036ba6"
    },
    {
      "cell_type": "markdown",
      "source": "<h3> Child Class (Edges) <h3>",
      "metadata": {},
      "id": "8c9fa39b-3cb2-4f78-8eeb-03203b0d1d76"
    },
    {
      "cell_type": "code",
      "source": "class Child(object): \n    \n    def__init__(self, parent: Gameboard, board: Gameboard, cost: int=1):\n        \"\"\"\n        Initialize a new child.\n        \n        Args:\n            parent: parent of the child \n            board: the current board of the child \n            cost: the cost of the edge (default 1)\n        \"\"\"\n\n        self.parent = parent\n        self.board = board \n        self.cost = cost\n        \n",
      "metadata": {},
      "execution_count": null,
      "outputs": [],
      "id": "0fad4bb6-5246-4b34-b439-c7c154a9c0af"
    }
  ]
}